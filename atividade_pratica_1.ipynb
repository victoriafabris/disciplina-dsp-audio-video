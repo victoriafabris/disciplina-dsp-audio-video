{
  "nbformat": 4,
  "nbformat_minor": 0,
  "metadata": {
    "colab": {
      "name": "atividade-pratica-1.ipynb",
      "provenance": [],
      "authorship_tag": "ABX9TyNsH+PBfjuY5zSy7x5cpVVF",
      "include_colab_link": true
    },
    "kernelspec": {
      "name": "python3",
      "display_name": "Python 3"
    },
    "language_info": {
      "name": "python"
    }
  },
  "cells": [
    {
      "cell_type": "markdown",
      "metadata": {
        "id": "view-in-github",
        "colab_type": "text"
      },
      "source": [
        "<a href=\"https://colab.research.google.com/github/victoriafabris/disciplina-dsp-audio-video/blob/main/atividade_pratica_1.ipynb\" target=\"_parent\"><img src=\"https://colab.research.google.com/assets/colab-badge.svg\" alt=\"Open In Colab\"/></a>"
      ]
    },
    {
      "cell_type": "code",
      "execution_count": null,
      "metadata": {
        "id": "Ur5-bJow3kFP"
      },
      "outputs": [],
      "source": [
        ""
      ]
    }
  ]
}