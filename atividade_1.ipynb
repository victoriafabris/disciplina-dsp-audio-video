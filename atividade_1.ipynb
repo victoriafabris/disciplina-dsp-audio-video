{
  "nbformat": 4,
  "nbformat_minor": 0,
  "metadata": {
    "colab": {
      "name": "atividade-1.ipynb",
      "provenance": [],
      "authorship_tag": "ABX9TyN01Co9rqc4Qm0GKwRbobA1",
      "include_colab_link": true
    },
    "kernelspec": {
      "name": "python3",
      "display_name": "Python 3"
    },
    "language_info": {
      "name": "python"
    }
  },
  "cells": [
    {
      "cell_type": "markdown",
      "metadata": {
        "id": "view-in-github",
        "colab_type": "text"
      },
      "source": [
        "<a href=\"https://colab.research.google.com/github/victoriafabris/disciplina-dsp-audio-video/blob/main/atividade_1.ipynb\" target=\"_parent\"><img src=\"https://colab.research.google.com/assets/colab-badge.svg\" alt=\"Open In Colab\"/></a>"
      ]
    },
    {
      "cell_type": "markdown",
      "source": [
        "###Atividade prática 1"
      ],
      "metadata": {
        "id": "YtP47Wqg4Lkj"
      }
    },
    {
      "cell_type": "markdown",
      "source": [
        "A. Grave um trecho de voz (use o microfone), com taxa de amostragem de 44,1 kHz."
      ],
      "metadata": {
        "id": "jY-cMg5C40rh"
      }
    },
    {
      "cell_type": "code",
      "execution_count": null,
      "metadata": {
        "id": "Ur5-bJow3kFP"
      },
      "outputs": [],
      "source": [
        ""
      ]
    },
    {
      "cell_type": "markdown",
      "source": [
        "B. Verifique a diferença no espectrograma entre trechos com vogais (A, por exemplo) e consoantes fricativas como S ou F. Em que faixa de frequências há mais energia para cada um dos sons?"
      ],
      "metadata": {
        "id": "X7JGU3FB4hp3"
      }
    },
    {
      "cell_type": "markdown",
      "source": [
        "C. Use os marcadores do OcenAudio para separar trechos com S, F e vogais (selecione um trecho e depois Editar / Criar região Crtl+k). Grave seu arquivo no formato WAV Linear PCM. "
      ],
      "metadata": {
        "id": "-t-0KDEq4jki"
      }
    },
    {
      "cell_type": "markdown",
      "source": [
        "D. Aplique um filtro passa-baixas com frequência de corte de 3,4 kHz"
      ],
      "metadata": {
        "id": "wIAlbpIt4mbZ"
      }
    },
    {
      "cell_type": "markdown",
      "source": [
        "E. Ouça o sinal filtrado e compare S com F. O que aconteceu?"
      ],
      "metadata": {
        "id": "xwc78MtG4qY6"
      }
    },
    {
      "cell_type": "markdown",
      "source": [
        "### Atividade prática 2"
      ],
      "metadata": {
        "id": "uW3-oVVI42FF"
      }
    },
    {
      "cell_type": "markdown",
      "source": [
        "A. Obtenha ou grave uma música com um instrumento que tenha em casa.\n"
      ],
      "metadata": {
        "id": "wESUyKbH44Gr"
      }
    },
    {
      "cell_type": "markdown",
      "source": [
        "B. Verifique no espectrograma a diferença entre notas de um violão ou piano e instrumentos de percussão."
      ],
      "metadata": {
        "id": "wjTZeepz4_mC"
      }
    },
    {
      "cell_type": "markdown",
      "source": [
        "C. Exporte o arquivo no formato MP3 com diferentes taxas (32, 80 e 320 kbps)."
      ],
      "metadata": {
        "id": "vPw1B8HQ5BLc"
      }
    },
    {
      "cell_type": "markdown",
      "source": [
        "D. O que ocorre no espectrograma?"
      ],
      "metadata": {
        "id": "abTpCqUG5CsH"
      }
    }
  ]
}