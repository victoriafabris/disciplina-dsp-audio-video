{
  "nbformat": 4,
  "nbformat_minor": 0,
  "metadata": {
    "colab": {
      "name": "atividade_3.ipynb",
      "provenance": [],
      "authorship_tag": "ABX9TyPRP31afCAYOUAayqe8YPNx",
      "include_colab_link": true
    },
    "kernelspec": {
      "name": "python3",
      "display_name": "Python 3"
    },
    "language_info": {
      "name": "python"
    }
  },
  "cells": [
    {
      "cell_type": "markdown",
      "metadata": {
        "id": "view-in-github",
        "colab_type": "text"
      },
      "source": [
        "<a href=\"https://colab.research.google.com/github/victoriafabris/disciplina-dsp-audio-video/blob/main/atividade3/atividade_3.ipynb\" target=\"_parent\"><img src=\"https://colab.research.google.com/assets/colab-badge.svg\" alt=\"Open In Colab\"/></a>"
      ]
    },
    {
      "cell_type": "markdown",
      "source": [
        "# Atividade: Média Móvel"
      ],
      "metadata": {
        "id": "7o_-c8eE8pFB"
      }
    },
    {
      "cell_type": "code",
      "execution_count": 10,
      "metadata": {
        "id": "UFH-T2518MyQ"
      },
      "outputs": [],
      "source": [
        "import numpy as np\n",
        "from scipy import signal\n",
        "import matplotlib.pyplot as plt"
      ]
    },
    {
      "cell_type": "markdown",
      "source": [
        "1. No Python (Numpy/Scipy), implemente com a função `scipy.signal.lfilter` um sistema média móvel de duas amostras. Considere a entrada `x=[10,3,−3,3,8,1,−2]`.\n",
        "___"
      ],
      "metadata": {
        "id": "VtEzOnnz9AVd"
      }
    },
    {
      "cell_type": "code",
      "source": [
        "x = [10, 3, -3, 3, 8, 1, -2]\n",
        "entrada = np.array(x)\n",
        "a = [1,2]\n",
        "b = [0.5,0.5]\n",
        "\n",
        "media_movel = signal.lfilter(b, a, entrada)\n",
        "print(media_movel)\n",
        "plt.plot(media_movel,'-',media_movel,'ok', entrada,'r',entrada,'ok')\n",
        "plt.show()\n"
      ],
      "metadata": {
        "colab": {
          "base_uri": "https://localhost:8080/",
          "height": 283
        },
        "id": "T4xiOZvB9Y-b",
        "outputId": "26aff0b4-0a16-4f89-f3ca-f6531467a18a"
      },
      "execution_count": 11,
      "outputs": [
        {
          "output_type": "stream",
          "name": "stdout",
          "text": [
            "[  5.   -3.5   7.  -14.   33.5 -62.5 124.5]\n"
          ]
        },
        {
          "output_type": "display_data",
          "data": {
            "text/plain": [
              "<Figure size 432x288 with 1 Axes>"
            ],
            "image/png": "[encoded data removed]"
          },
          "metadata": {
            "needs_background": "light"
          }
        }
      ]
    },
    {
      "cell_type": "markdown",
      "source": [
        "B. Verifique se a saída está correta (faça o cálculo manualmente). Foi por esse motivo que usamos um sinal  x(n)  simples, para calcular a saída manualmente e ter certeza que a implementação está correta.\n",
        "___\n",
        "\n",
        "C. Verifique com a função scipy.signal.freqz a resposta em frequência do sistema. Que tipo de filtro é o sistema média móvel? Qual a sua frequência de corte, em Hz, considerando uma frequência de amostragem de 44100 Hz?\n",
        "\n",
        "Confira se o resultado está correto fazendo também de forma analítica. Anexe uma foto com seu cálculo. Para isso, lembre que a frequência de corte de um filtro é aquela em que a magnitude de  H(z)  é  12√ . Você já tem a resposta em frequência (olhe no vídeo). Obtenha a magnitude, depois iguale a  12√  e isole a frequência.\n",
        "___\n",
        "\n",
        "D. Um tom senoidal puro de 17 kHz, amplitude de pico de 1,5 V, amostrado a 44,1 kHz, é aplicado à entrada do sistema média móvel de 2 amostras. Qual o sinal de saída (tipo, frequência e amplitude)? Mostre.\n",
        "___\n",
        "\n",
        "E. Com zplane (baixar de https://www.dsprelated.com/showcode/244.php), onde estão localizadas as singularidades (polos e zeros) no domínio Z do sistema média móvel de 2 amostras?\n",
        "___\n",
        "\n",
        "F. Ainda no Python, implemente uma média móvel com quatro amostras. Há um efeito de suavização na saída?\n",
        "___\n",
        "\n",
        "G. Verifique a resposta em frequência do sistema com freqz. Qual a diferença em relação ao sistema de 2 amostras?\n",
        "___\n",
        "\n",
        "H. Gere um sinal sweep no Ocenaudio (ou gere diretamente no Python) e grave em formato wav. Leia o arquivo no Python e use como entrada da média móvel com 4 amostras. Grave a saída, abra no Ocenaudio e observe a saída no tempo e no domínio da frequência. O resultado é condizente com o esperado no item G? Mostre.\n",
        "___"
      ],
      "metadata": {
        "id": "FYN91DuU8yNB"
      }
    }
  ]
}