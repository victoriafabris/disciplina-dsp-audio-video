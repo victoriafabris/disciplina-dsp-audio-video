{
  "cells": [
    {
      "cell_type": "markdown",
      "metadata": {
        "id": "view-in-github",
        "colab_type": "text"
      },
      "source": [
        "<a href=\"https://colab.research.google.com/github/victoriafabris/disciplina-dsp-audio-video/blob/main/atividade5/atividade_5.ipynb\" target=\"_parent\"><img src=\"https://colab.research.google.com/assets/colab-badge.svg\" alt=\"Open In Colab\"/></a>"
      ]
    },
    {
      "cell_type": "markdown",
      "metadata": {
        "id": "lIli5lu_wrWz"
      },
      "source": [
        "# Atividade: Transformada Discreta de Fourier (DFT), Transformada Rápida de Fourier (FFT) e janelamento"
      ]
    },
    {
      "cell_type": "markdown",
      "metadata": {
        "id": "2B7vqm-dwrW2"
      },
      "source": [
        "## Efeito da resolução (número de bins)"
      ]
    },
    {
      "cell_type": "markdown",
      "metadata": {
        "id": "7jS4aTStwrW2"
      },
      "source": [
        "1. Use os códigos de aulas anteriores (`tonegen`, por exemplo) para gerar um sinal que consiste na soma de duas senoides de 400Hz e 820 Hz, amostradas com uma frequência de 4 kHz. Depois, use a função `fft` para calcular os coeficientes $X(k)$ da DFT, com N=100. Apresente o código e faça o gráfico da magnitude da FFT."
      ]
    },
    {
      "cell_type": "markdown",
      "metadata": {
        "id": "TQwoa70twrW3"
      },
      "source": [
        "Responda:\n",
        "\n",
        "a. Qual a resolução em frequência neste caso?"
      ]
    },
    {
      "cell_type": "markdown",
      "metadata": {
        "id": "7K-KpGAPwrW3"
      },
      "source": [
        "b. Quais índices de frequência correspondem às senoides de frequências 400 Hz e 820 Hz?"
      ]
    },
    {
      "cell_type": "markdown",
      "metadata": {
        "id": "NdCU24fxwrW3"
      },
      "source": [
        "c. Como a transformada de Fourier de uma função senoidal é uma função delta, por que não encontramos duas linhas simples no gráfico da FFT? Experimente usar a função `stem` no lugar de `plot`. "
      ]
    },
    {
      "cell_type": "markdown",
      "metadata": {
        "id": "BiMXXvt1wrW4"
      },
      "source": [
        "d. Por que o espectro da senoide de 820 Hz sofreu espalhamento?"
      ]
    },
    {
      "cell_type": "markdown",
      "metadata": {
        "id": "P4g0omVCwrW4"
      },
      "source": [
        "e. Aumente o número de pontos da transformada para N=200. É possível ver somente dois picos agora?"
      ]
    },
    {
      "cell_type": "markdown",
      "metadata": {
        "id": "KtKyNx4ewrW4"
      },
      "source": [
        "f. Gere um novo sinal que consiste na soma de duas senoides de 400Hz e 420 Hz, com a mesma  frequência de amostragem de 4 kHz Verifique os resultados com transformadas de 100 e 200 pontos. Você consegue ver os dois componentes de frequência separados? Por quê?"
      ]
    },
    {
      "cell_type": "markdown",
      "metadata": {
        "id": "33p41d2qwrW4"
      },
      "source": [
        "## Janelamento"
      ]
    },
    {
      "cell_type": "markdown",
      "metadata": {
        "id": "RfKsXedCwrW4"
      },
      "source": [
        "2. O programa a seguir modifica o exercício anterior para aplicar janelamento na senoide, a fim de minimizar o vazamento espectral (spectral leakage) observado anteriormente. Quando se calcula o espectro dos sinais com uma janela retangular e uma janela Kaiser, observa-se que esta última tem o poder de reduzir o vazamento espectral da senoide de 820 Hz, ao custo de alargar o pico da senoide de 400 Hz. Observe o resultado deste programa."
      ]
    },
    {
      "cell_type": "code",
      "execution_count": null,
      "metadata": {
        "id": "sRAKmKBPwrW5",
        "outputId": "88a150a7-d954-4dfb-c80a-774d649ddafe"
      },
      "outputs": [
        {
          "data": {
            "text/plain": [
              "<matplotlib.legend.Legend at 0x7f1275245ba8>"
            ]
          },
          "execution_count": 27,
          "metadata": {},
          "output_type": "execute_result"
        },
        {
          "data": {
            "image/png": "[encoded data removed]",
            "text/plain": [
              "<Figure size 432x288 with 1 Axes>"
            ]
          },
          "metadata": {
            "needs_background": "light"
          },
          "output_type": "display_data"
        }
      ],
      "source": [
        "#  Análise espectral de sinusoides usando janelas retangular e Kaiser\n",
        "#  Baseado no livro \"Embedded Signal Processing with the Micro Signal Architecture\"\n",
        "#    de Woon-Seng Gan and Sen M. Kuo\n",
        "#\n",
        "# Fernando S. Pacheco - IFSC - 2019\n",
        "\n",
        "import numpy as np\n",
        "import scipy.signal as sig\n",
        "import scipy.fftpack as fftp\n",
        "import matplotlib.pyplot as plt\n",
        "\n",
        "f1 = 400 # parâmetros do sinal\n",
        "f2 = 820\n",
        "fs = 4000 \n",
        "\n",
        "N = 100 # tamanho do sinal e da transformada em número de amostras\n",
        "n = np.array(range(0,N))\n",
        "\n",
        "x1n = np.sin(2*np.pi*f1*n/fs) # geração do sinal\n",
        "x2n = np.sin(2*np.pi*f2*n/fs)\n",
        "\n",
        "# Janelamento\n",
        "xn_rec = x1n+x2n # Janela retangular: simplesmente somar os sinais individuais\n",
        "beta = 8.96\n",
        "wn = sig.kaiser(N,beta) # janela Kaiser\n",
        "xn_kai = xn_rec*wn\n",
        "\n",
        "# Espectro\n",
        "Xk_rec = fftp.fft(xn_rec) # cálculo da transformada (DFT)\n",
        "absXk_rec=20*np.log10(np.abs(Xk_rec)) # espectro de magnitude (dB)\n",
        "Xk_kai = fftp.fft(xn_kai)\n",
        "absXk_kai=20*np.log10(np.abs(Xk_kai))\n",
        "\n",
        "# Gráfico de magnitude\n",
        "plt.plot(absXk_rec[0:int(N/2)], label = 'Retangular')\n",
        "plt.plot(absXk_kai[0:int(N/2)], label = 'Kaiser')\n",
        "\n",
        "plt.grid(True)\n",
        "plt.title('Espectro de magnitude de sinais senoidais')\n",
        "plt.xlabel('Índice em frequência k')\n",
        "plt.ylabel('Magnitude (dB)')\n",
        "plt.legend()"
      ]
    },
    {
      "cell_type": "markdown",
      "metadata": {
        "id": "e0PSvg1MwrW6"
      },
      "source": [
        "Depois, modifique-o para:\n",
        "\n",
        "a. Aplicar diferentes janelas. Observe as diferenças quanto ao vazamento espectral e à largura do lóbulo principal. Mostre os gráficos e comente os resultados.\n",
        "\n",
        "b. Aplicar a janela de Kaiser com diferentes valores de beta. Apresente os gráficos e analise os resultados."
      ]
    }
  ],
  "metadata": {
    "kernelspec": {
      "display_name": "Python 3 (ipykernel)",
      "language": "python",
      "name": "python3"
    },
    "language_info": {
      "codemirror_mode": {
        "name": "ipython",
        "version": 3
      },
      "file_extension": ".py",
      "mimetype": "text/x-python",
      "name": "python",
      "nbconvert_exporter": "python",
      "pygments_lexer": "ipython3",
      "version": "3.8.8"
    },
    "colab": {
      "name": "atividade_5",
      "provenance": [],
      "include_colab_link": true
    }
  },
  "nbformat": 4,
  "nbformat_minor": 0
}