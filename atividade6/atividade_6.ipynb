{
  "cells": [
    {
      "cell_type": "markdown",
      "metadata": {
        "id": "view-in-github",
        "colab_type": "text"
      },
      "source": [
        "<a href=\"https://colab.research.google.com/github/victoriafabris/disciplina-dsp-audio-video/blob/main/atividade6/atividade_6.ipynb\" target=\"_parent\"><img src=\"https://colab.research.google.com/assets/colab-badge.svg\" alt=\"Open In Colab\"/></a>"
      ]
    },
    {
      "cell_type": "markdown",
      "metadata": {
        "id": "_80Ccl41vsa3"
      },
      "source": [
        "# Processamento pixel a pixel de imagens"
      ]
    },
    {
      "cell_type": "markdown",
      "metadata": {
        "id": "0dVSipO2vsa5"
      },
      "source": [
        "## Amostragem e quantização"
      ]
    },
    {
      "cell_type": "markdown",
      "metadata": {
        "id": "YjVgtQCEvsa6"
      },
      "source": [
        "Para uma introdução ao processamento pixel a pixel de imagens, iremos usar o formato ASCII PGM(P2) (conferir   definição e exemplos   em  http://people.sc.fsu.edu/~jburkardt/data/pgma/pgma.html).\n",
        "\n",
        "Esse formato é bastante didático, por ser em modo **texto**, ou seja, pode ser lido diretamente por uma pessoa."
      ]
    },
    {
      "cell_type": "code",
      "execution_count": null,
      "metadata": {
        "id": "-XvntJSevsa6"
      },
      "outputs": [],
      "source": [
        "import numpy as np\n",
        "import matplotlib.pyplot as plt\n",
        "from skimage import io"
      ]
    },
    {
      "cell_type": "markdown",
      "metadata": {
        "id": "3_d4vmW_vsa7"
      },
      "source": [
        "## Leitura de arquivo no formato PGM (ASCII)"
      ]
    },
    {
      "cell_type": "code",
      "execution_count": null,
      "metadata": {
        "id": "VK2iQlL-vsa7"
      },
      "outputs": [],
      "source": [
        "# Função para leitura de arquivo PGM P2 (ASCIII)\n",
        "# https://intellipaat.com/community/7530/how-to-read-pgm-p2-image-in-python\n",
        "def readpgm(name):\n",
        "    with open(name) as f:\n",
        "        lines = f.readlines()\n",
        "    # This ignores commented lines\n",
        "    for l in list(lines):\n",
        "        if l[0] == '#':\n",
        "            lines.remove(l)\n",
        "    # here,it makes sure it is ASCII format (P2)\n",
        "    assert lines[0].strip() == 'P2' \n",
        "    # Converts data to a list of integers\n",
        "    data = []\n",
        "    for line in lines[1:]:\n",
        "        data.extend([int(c) for c in line.split()])\n",
        "    return (np.array(data[3:]),(data[1],data[0]),data[2])"
      ]
    },
    {
      "cell_type": "code",
      "execution_count": null,
      "metadata": {
        "id": "_fNRb35cvsa8",
        "outputId": "f3b4936c-9f4b-4621-df9d-4622d24db1f9"
      },
      "outputs": [
        {
          "name": "stdout",
          "output_type": "stream",
          "text": [
            "(array([ 0,  0,  0,  0,  0,  0,  0,  0,  0,  0,  0,  0,  0,  0,  0,  0,  0,\n",
            "        0,  0,  0,  0,  0,  0,  0,  0,  0,  3,  0,  0,  0,  0,  7,  7,  7,\n",
            "        7,  0,  0, 11, 11, 11, 11,  0,  0, 15, 15, 15, 15,  0,  0,  0,  3,\n",
            "        0,  0,  0,  0,  7,  0,  0,  0,  0,  0, 11,  0,  0,  0,  0,  0, 15,\n",
            "        0,  0,  0,  0,  0,  0,  3,  0,  0,  0,  0,  7,  7,  7,  0,  0,  0,\n",
            "       11, 11, 11, 11,  0,  0, 15,  0,  0,  0,  0,  0,  0,  3,  0,  0,  0,\n",
            "        0,  7,  0,  0,  0,  0,  0,  0,  0,  0, 11,  0,  0, 15,  0,  0,  0,\n",
            "        0,  0,  0,  3,  0,  0,  0,  0,  7,  0,  0,  0,  0,  0, 11, 11, 11,\n",
            "       11,  0,  0, 15, 15, 15, 15,  0,  0,  0,  0,  0,  0,  0,  0,  0,  0,\n",
            "        0,  0,  0,  0,  0,  0,  0,  0,  0,  0,  0,  0,  0,  0,  0]), (7, 24), 15)\n"
          ]
        }
      ],
      "source": [
        "imifsc = readpgm('ifsc.ascii.pgm')\n",
        "print(imifsc)\n",
        "# Observe que a imagem está representada como um vetor de uma única dimensão\n",
        "# Fica difícil de visualizar as linhas e colunas"
      ]
    },
    {
      "cell_type": "code",
      "execution_count": null,
      "metadata": {
        "id": "3PFYwdD7vsa9",
        "outputId": "41a998d0-496e-4d53-868a-a1d96d5a730e"
      },
      "outputs": [
        {
          "name": "stdout",
          "output_type": "stream",
          "text": [
            "[[ 0  0  0  0  0  0  0  0  0  0  0  0  0  0  0  0  0  0  0  0  0  0  0  0]\n",
            " [ 0  0  3  0  0  0  0  7  7  7  7  0  0 11 11 11 11  0  0 15 15 15 15  0]\n",
            " [ 0  0  3  0  0  0  0  7  0  0  0  0  0 11  0  0  0  0  0 15  0  0  0  0]\n",
            " [ 0  0  3  0  0  0  0  7  7  7  0  0  0 11 11 11 11  0  0 15  0  0  0  0]\n",
            " [ 0  0  3  0  0  0  0  7  0  0  0  0  0  0  0  0 11  0  0 15  0  0  0  0]\n",
            " [ 0  0  3  0  0  0  0  7  0  0  0  0  0 11 11 11 11  0  0 15 15 15 15  0]\n",
            " [ 0  0  0  0  0  0  0  0  0  0  0  0  0  0  0  0  0  0  0  0  0  0  0  0]]\n"
          ]
        }
      ],
      "source": [
        "imifsc_reshape = np.reshape(imifsc[0],imifsc[1])\n",
        "print(imifsc_reshape)\n",
        "# Fazendo o reshape, aí sim podemos visualizar linhas e colunas\n",
        "# Observe os números representando as letras de I F S C"
      ]
    },
    {
      "cell_type": "code",
      "execution_count": null,
      "metadata": {
        "id": "CbqUz5ZCvsa-",
        "outputId": "902cf5a3-d9e9-4a60-fdfb-d4b2e30a05f4"
      },
      "outputs": [
        {
          "name": "stderr",
          "output_type": "stream",
          "text": [
            "/home/fernando/.local/lib/python3.8/site-packages/skimage/io/_plugins/matplotlib_plugin.py:150: UserWarning: Low image data range; displaying image with stretched contrast.\n",
            "  lo, hi, cmap = _get_display_range(image)\n"
          ]
        },
        {
          "data": {
            "text/plain": [
              "<matplotlib.image.AxesImage at 0x7f087b3a2340>"
            ]
          },
          "execution_count": 5,
          "metadata": {},
          "output_type": "execute_result"
        },
        {
          "data": {
            "image/png": "[encoded data removed]",
            "text/plain": [
              "<Figure size 432x288 with 2 Axes>"
            ]
          },
          "metadata": {
            "needs_background": "light"
          },
          "output_type": "display_data"
        }
      ],
      "source": [
        "io.imshow(imifsc_reshape)\n",
        "# imshow aplica por default um mapa de cores (colormap) colorido"
      ]
    },
    {
      "cell_type": "code",
      "execution_count": null,
      "metadata": {
        "id": "-vMzTwOHvsa-",
        "outputId": "059a078e-18af-49f0-942f-018f884855e6"
      },
      "outputs": [
        {
          "data": {
            "text/plain": [
              "<matplotlib.image.AxesImage at 0x7f087b3083a0>"
            ]
          },
          "execution_count": 6,
          "metadata": {},
          "output_type": "execute_result"
        },
        {
          "data": {
            "image/png": "[encoded data removed]",
            "text/plain": [
              "<Figure size 432x288 with 2 Axes>"
            ]
          },
          "metadata": {
            "needs_background": "light"
          },
          "output_type": "display_data"
        }
      ],
      "source": [
        "io.imshow(imifsc_reshape, cmap='gray')\n",
        "# Aqui para ficar com o mapa em escala de cinza. Observe que, conforme estava especificado no arquivo, \n",
        "# o branco é a intensidade 15"
      ]
    },
    {
      "cell_type": "code",
      "execution_count": null,
      "metadata": {
        "id": "1WiqLh1Qvsa_",
        "outputId": "04c5ac32-fbcc-47e5-dca0-cf824df9cd12"
      },
      "outputs": [
        {
          "data": {
            "text/plain": [
              "<matplotlib.image.AxesImage at 0x7f087b219e50>"
            ]
          },
          "execution_count": 7,
          "metadata": {},
          "output_type": "execute_result"
        },
        {
          "data": {
            "image/png": "[encoded data removed]",
            "text/plain": [
              "<Figure size 432x288 with 2 Axes>"
            ]
          },
          "metadata": {
            "needs_background": "light"
          },
          "output_type": "display_data"
        }
      ],
      "source": [
        "io.imshow(imifsc_reshape, cmap='gray', vmin=0, vmax=255)\n",
        "# E aqui, a mesma imagem, mas com os limites entre 0 e 255 (ou seja, branco será 255).\n",
        "# Assim, aquela imagem que tinha intensidade máxima de 15 irá ficar bem escura\n",
        "# Tanto que nem será possível distinguir as letras"
      ]
    },
    {
      "cell_type": "markdown",
      "metadata": {
        "id": "IHax4g4Hvsa_"
      },
      "source": [
        "# Contraste"
      ]
    },
    {
      "cell_type": "markdown",
      "metadata": {
        "id": "gHeACOTrvsa_"
      },
      "source": [
        "Como as letras ficaram \"ocultas\", por ter baixo contraste com o fundo, iremos aumentar o contraste.\n",
        "\n",
        "Na função contraste, a operação aplicada sobre a intensidade de cada pixel é $I_{new}(u,v)= f_c⋅I(u,v)$, onde $f_c$ é um fator de contraste multiplicado pela intensidade original. A função deve limitar a intensidade entre 0 e 255 (com valores inteiros)"
      ]
    },
    {
      "cell_type": "code",
      "execution_count": null,
      "metadata": {
        "id": "L5ujDo31vsbA"
      },
      "outputs": [],
      "source": [
        "# Demonstração do laço principal para alteração de contraste\n",
        "for j in range(imifsc_reshape.shape[0]):\n",
        "    for k in range(imifsc_reshape.shape[1]):\n",
        "        imifsc_reshape[j,k]=17*imifsc_reshape[j,k]"
      ]
    },
    {
      "cell_type": "code",
      "execution_count": null,
      "metadata": {
        "scrolled": true,
        "id": "WhqocbV7vsbA",
        "outputId": "5fe79ec5-a45c-4d72-b540-a5c8f42d3eb6"
      },
      "outputs": [
        {
          "data": {
            "text/plain": [
              "<matplotlib.image.AxesImage at 0x7f087b1ab9a0>"
            ]
          },
          "execution_count": 9,
          "metadata": {},
          "output_type": "execute_result"
        },
        {
          "data": {
            "image/png": "[encoded data removed]",
            "text/plain": [
              "<Figure size 432x288 with 2 Axes>"
            ]
          },
          "metadata": {
            "needs_background": "light"
          },
          "output_type": "display_data"
        }
      ],
      "source": [
        "io.imshow(imifsc_reshape, cmap='gray', vmin=0, vmax=255)\n",
        "# Observe como as letras \"apareceram\" com a alteração de contraste"
      ]
    },
    {
      "cell_type": "markdown",
      "metadata": {
        "id": "_SxSbR8ovsbA"
      },
      "source": [
        "# Atividade"
      ]
    },
    {
      "cell_type": "markdown",
      "metadata": {
        "id": "yhieVqjkvsbA"
      },
      "source": [
        "1. Faça uma **função** *altera_contraste()* que receba uma matriz (`nparray`) e um fator de multiplicação e retorne uma nova matriz com o contraste modificado. Lembre de limitar a intensidade entre 0 e 255 dentro da função. Informe com um _warning_ se isso ocorrer.  "
      ]
    },
    {
      "cell_type": "markdown",
      "metadata": {
        "id": "ef4hQiH_vsbA"
      },
      "source": [
        "2. Operação **brilho**. Para alterar o brilho de uma imagem, a operação aplicada sobre a intensidade de cada pixel é $I_{new}(u,v)=f_b+I(u,v)$, onde $f_b$ é um fator de brilho somado à intensidade original. Faça uma **função** *altera_brilho()* que receba uma matriz (`nparray`) e um fator de adição e retorne uma nova matriz com o brilho modificado. Lembre de limitar a intensidade entre 0 e 255 dentro da função. Informe com um _warning_ se isso ocorrer."
      ]
    },
    {
      "cell_type": "markdown",
      "metadata": {
        "id": "VkQomzzlvsbB"
      },
      "source": [
        "3. Teste as duas funções com a imagem _daeln.pgm_\n",
        "\n",
        "Para o contraste, submeta no Moodle a imagem com o fator de aumento 5 (terá saturação)\n",
        "\n",
        "Para o brilho, submeta no Moodle a imagem com o fator de diminuição 80 (também terá saturação, mas para baixo)"
      ]
    }
  ],
  "metadata": {
    "kernelspec": {
      "display_name": "Python 3",
      "language": "python",
      "name": "python3"
    },
    "language_info": {
      "codemirror_mode": {
        "name": "ipython",
        "version": 3
      },
      "file_extension": ".py",
      "mimetype": "text/x-python",
      "name": "python",
      "nbconvert_exporter": "python",
      "pygments_lexer": "ipython3",
      "version": "3.8.2"
    },
    "colab": {
      "name": "atividade_6",
      "provenance": [],
      "include_colab_link": true
    }
  },
  "nbformat": 4,
  "nbformat_minor": 0
}