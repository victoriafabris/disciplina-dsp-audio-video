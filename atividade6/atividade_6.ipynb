{
  "cells": [
    {
      "cell_type": "markdown",
      "metadata": {
        "id": "view-in-github",
        "colab_type": "text"
      },
      "source": [
        "<a href=\"https://colab.research.google.com/github/victoriafabris/disciplina-dsp-audio-video/blob/main/atividade6/atividade_6.ipynb\" target=\"_parent\"><img src=\"https://colab.research.google.com/assets/colab-badge.svg\" alt=\"Open In Colab\"/></a>"
      ]
    },
    {
      "cell_type": "markdown",
      "metadata": {
        "id": "_80Ccl41vsa3"
      },
      "source": [
        "# Processamento pixel a pixel de imagens"
      ]
    },
    {
      "cell_type": "markdown",
      "metadata": {
        "id": "0dVSipO2vsa5"
      },
      "source": [
        "## Amostragem e quantização"
      ]
    },
    {
      "cell_type": "markdown",
      "metadata": {
        "id": "YjVgtQCEvsa6"
      },
      "source": [
        "Para uma introdução ao processamento pixel a pixel de imagens, iremos usar o formato ASCII PGM(P2) (conferir   definição e exemplos   em  http://people.sc.fsu.edu/~jburkardt/data/pgma/pgma.html).\n",
        "\n",
        "Esse formato é bastante didático, por ser em modo **texto**, ou seja, pode ser lido diretamente por uma pessoa."
      ]
    },
    {
      "cell_type": "code",
      "execution_count": 28,
      "metadata": {
        "id": "-XvntJSevsa6"
      },
      "outputs": [],
      "source": [
        "import numpy as np\n",
        "import matplotlib.pyplot as plt\n",
        "from skimage import io\n",
        "import warnings\n",
        "from google.colab import files"
      ]
    },
    {
      "cell_type": "markdown",
      "metadata": {
        "id": "3_d4vmW_vsa7"
      },
      "source": [
        "## Leitura de arquivo no formato PGM (ASCII)"
      ]
    },
    {
      "cell_type": "code",
      "execution_count": 12,
      "metadata": {
        "id": "VK2iQlL-vsa7"
      },
      "outputs": [],
      "source": [
        "# Função para leitura de arquivo PGM P2 (ASCIII)\n",
        "# https://intellipaat.com/community/7530/how-to-read-pgm-p2-image-in-python\n",
        "def readpgm(name):\n",
        "    with open(name) as f:\n",
        "        lines = f.readlines()\n",
        "    # This ignores commented lines\n",
        "    for l in list(lines):\n",
        "        if l[0] == '#':\n",
        "            lines.remove(l)\n",
        "    # here,it makes sure it is ASCII format (P2)\n",
        "    assert lines[0].strip() == 'P2' \n",
        "    # Converts data to a list of integers\n",
        "    data = []\n",
        "    for line in lines[1:]:\n",
        "        data.extend([int(c) for c in line.split()])\n",
        "    return (np.array(data[3:]),(data[1],data[0]),data[2])"
      ]
    },
    {
      "cell_type": "code",
      "execution_count": 13,
      "metadata": {
        "colab": {
          "base_uri": "https://localhost:8080/"
        },
        "id": "_fNRb35cvsa8",
        "outputId": "8cd8a964-a7c2-4aab-a186-c057ff81cc80"
      },
      "outputs": [
        {
          "output_type": "stream",
          "name": "stdout",
          "text": [
            "(array([ 0,  0,  0,  0,  0,  0,  0,  0,  0,  0,  0,  0,  0,  0,  0,  0,  0,\n",
            "        0,  0,  0,  0,  0,  0,  0,  0,  0,  3,  0,  0,  0,  0,  7,  7,  7,\n",
            "        7,  0,  0, 11, 11, 11, 11,  0,  0, 15, 15, 15, 15,  0,  0,  0,  3,\n",
            "        0,  0,  0,  0,  7,  0,  0,  0,  0,  0, 11,  0,  0,  0,  0,  0, 15,\n",
            "        0,  0,  0,  0,  0,  0,  3,  0,  0,  0,  0,  7,  7,  7,  0,  0,  0,\n",
            "       11, 11, 11, 11,  0,  0, 15,  0,  0,  0,  0,  0,  0,  3,  0,  0,  0,\n",
            "        0,  7,  0,  0,  0,  0,  0,  0,  0,  0, 11,  0,  0, 15,  0,  0,  0,\n",
            "        0,  0,  0,  3,  0,  0,  0,  0,  7,  0,  0,  0,  0,  0, 11, 11, 11,\n",
            "       11,  0,  0, 15, 15, 15, 15,  0,  0,  0,  0,  0,  0,  0,  0,  0,  0,\n",
            "        0,  0,  0,  0,  0,  0,  0,  0,  0,  0,  0,  0,  0,  0,  0]), (7, 24), 15)\n"
          ]
        }
      ],
      "source": [
        "imifsc = readpgm('ifsc.ascii.pgm')\n",
        "print(imifsc)\n",
        "# Observe que a imagem está representada como um vetor de uma única dimensão\n",
        "# Fica difícil de visualizar as linhas e colunas"
      ]
    },
    {
      "cell_type": "code",
      "execution_count": 14,
      "metadata": {
        "colab": {
          "base_uri": "https://localhost:8080/"
        },
        "id": "3PFYwdD7vsa9",
        "outputId": "29eb4329-3c8a-4545-dbbf-93e7ccaa8408"
      },
      "outputs": [
        {
          "output_type": "stream",
          "name": "stdout",
          "text": [
            "[[ 0  0  0  0  0  0  0  0  0  0  0  0  0  0  0  0  0  0  0  0  0  0  0  0]\n",
            " [ 0  0  3  0  0  0  0  7  7  7  7  0  0 11 11 11 11  0  0 15 15 15 15  0]\n",
            " [ 0  0  3  0  0  0  0  7  0  0  0  0  0 11  0  0  0  0  0 15  0  0  0  0]\n",
            " [ 0  0  3  0  0  0  0  7  7  7  0  0  0 11 11 11 11  0  0 15  0  0  0  0]\n",
            " [ 0  0  3  0  0  0  0  7  0  0  0  0  0  0  0  0 11  0  0 15  0  0  0  0]\n",
            " [ 0  0  3  0  0  0  0  7  0  0  0  0  0 11 11 11 11  0  0 15 15 15 15  0]\n",
            " [ 0  0  0  0  0  0  0  0  0  0  0  0  0  0  0  0  0  0  0  0  0  0  0  0]]\n"
          ]
        }
      ],
      "source": [
        "imifsc_reshape = np.reshape(imifsc[0],imifsc[1])\n",
        "print(imifsc_reshape)\n",
        "# Fazendo o reshape, aí sim podemos visualizar linhas e colunas\n",
        "# Observe os números representando as letras de I F S C"
      ]
    },
    {
      "cell_type": "code",
      "execution_count": 15,
      "metadata": {
        "colab": {
          "base_uri": "https://localhost:8080/",
          "height": 228
        },
        "id": "CbqUz5ZCvsa-",
        "outputId": "3fedff56-cadc-443d-a6c7-9724b923f1e9"
      },
      "outputs": [
        {
          "output_type": "stream",
          "name": "stderr",
          "text": [
            "/usr/local/lib/python3.7/dist-packages/skimage/io/_plugins/matplotlib_plugin.py:150: UserWarning: Low image data range; displaying image with stretched contrast.\n",
            "  lo, hi, cmap = _get_display_range(image)\n"
          ]
        },
        {
          "output_type": "execute_result",
          "data": {
            "text/plain": [
              "<matplotlib.image.AxesImage at 0x7f12ddcda0d0>"
            ]
          },
          "metadata": {},
          "execution_count": 15
        },
        {
          "output_type": "display_data",
          "data": {
            "text/plain": [
              "<Figure size 432x288 with 2 Axes>"
            ],
            "image/png": "[encoded data removed]"
          },
          "metadata": {
            "needs_background": "light"
          }
        }
      ],
      "source": [
        "io.imshow(imifsc_reshape)\n",
        "# imshow aplica por default um mapa de cores (colormap) colorido"
      ]
    },
    {
      "cell_type": "code",
      "execution_count": 16,
      "metadata": {
        "colab": {
          "base_uri": "https://localhost:8080/",
          "height": 228
        },
        "id": "-vMzTwOHvsa-",
        "outputId": "bfca9b1f-e29a-400f-81fe-34f2a4dc9c75"
      },
      "outputs": [
        {
          "output_type": "stream",
          "name": "stderr",
          "text": [
            "/usr/local/lib/python3.7/dist-packages/skimage/io/_plugins/matplotlib_plugin.py:150: UserWarning: Low image data range; displaying image with stretched contrast.\n",
            "  lo, hi, cmap = _get_display_range(image)\n"
          ]
        },
        {
          "output_type": "execute_result",
          "data": {
            "text/plain": [
              "<matplotlib.image.AxesImage at 0x7f12ddbc6290>"
            ]
          },
          "metadata": {},
          "execution_count": 16
        },
        {
          "output_type": "display_data",
          "data": {
            "text/plain": [
              "<Figure size 432x288 with 2 Axes>"
            ],
            "image/png": "[encoded data removed]"
          },
          "metadata": {
            "needs_background": "light"
          }
        }
      ],
      "source": [
        "io.imshow(imifsc_reshape, cmap='gray')\n",
        "# Aqui para ficar com o mapa em escala de cinza. Observe que, conforme estava especificado no arquivo, \n",
        "# o branco é a intensidade 15"
      ]
    },
    {
      "cell_type": "code",
      "execution_count": 17,
      "metadata": {
        "colab": {
          "base_uri": "https://localhost:8080/",
          "height": 222
        },
        "id": "1WiqLh1Qvsa_",
        "outputId": "bdc1d1d3-a208-4678-862b-74828039002b"
      },
      "outputs": [
        {
          "output_type": "stream",
          "name": "stderr",
          "text": [
            "/usr/local/lib/python3.7/dist-packages/skimage/io/_plugins/matplotlib_plugin.py:150: UserWarning: Low image data range; displaying image with stretched contrast.\n",
            "  lo, hi, cmap = _get_display_range(image)\n"
          ]
        },
        {
          "output_type": "execute_result",
          "data": {
            "text/plain": [
              "<matplotlib.image.AxesImage at 0x7f12ddafb650>"
            ]
          },
          "metadata": {},
          "execution_count": 17
        },
        {
          "output_type": "display_data",
          "data": {
            "text/plain": [
              "<Figure size 432x288 with 2 Axes>"
            ],
            "image/png": "[encoded data removed]"
          },
          "metadata": {
            "needs_background": "light"
          }
        }
      ],
      "source": [
        "io.imshow(imifsc_reshape, cmap='gray', vmin=0, vmax=255)\n",
        "# E aqui, a mesma imagem, mas com os limites entre 0 e 255 (ou seja, branco será 255).\n",
        "# Assim, aquela imagem que tinha intensidade máxima de 15 irá ficar bem escura\n",
        "# Tanto que nem será possível distinguir as letras"
      ]
    },
    {
      "cell_type": "markdown",
      "metadata": {
        "id": "IHax4g4Hvsa_"
      },
      "source": [
        "# Contraste"
      ]
    },
    {
      "cell_type": "markdown",
      "metadata": {
        "id": "gHeACOTrvsa_"
      },
      "source": [
        "Como as letras ficaram \"ocultas\", por ter baixo contraste com o fundo, iremos aumentar o contraste.\n",
        "\n",
        "Na função contraste, a operação aplicada sobre a intensidade de cada pixel é $I_{new}(u,v)= f_c⋅I(u,v)$, onde $f_c$ é um fator de contraste multiplicado pela intensidade original. A função deve limitar a intensidade entre 0 e 255 (com valores inteiros)"
      ]
    },
    {
      "cell_type": "code",
      "execution_count": 18,
      "metadata": {
        "id": "L5ujDo31vsbA"
      },
      "outputs": [],
      "source": [
        "# Demonstração do laço principal para alteração de contraste\n",
        "for j in range(imifsc_reshape.shape[0]):\n",
        "    for k in range(imifsc_reshape.shape[1]):\n",
        "        imifsc_reshape[j,k]=17*imifsc_reshape[j,k]"
      ]
    },
    {
      "cell_type": "code",
      "execution_count": 19,
      "metadata": {
        "scrolled": true,
        "colab": {
          "base_uri": "https://localhost:8080/",
          "height": 222
        },
        "id": "WhqocbV7vsbA",
        "outputId": "409e290f-4695-4764-f710-11828b480a1b"
      },
      "outputs": [
        {
          "output_type": "stream",
          "name": "stderr",
          "text": [
            "/usr/local/lib/python3.7/dist-packages/skimage/io/_plugins/matplotlib_plugin.py:150: UserWarning: Low image data range; displaying image with stretched contrast.\n",
            "  lo, hi, cmap = _get_display_range(image)\n"
          ]
        },
        {
          "output_type": "execute_result",
          "data": {
            "text/plain": [
              "<matplotlib.image.AxesImage at 0x7f12ddaa2b90>"
            ]
          },
          "metadata": {},
          "execution_count": 19
        },
        {
          "output_type": "display_data",
          "data": {
            "text/plain": [
              "<Figure size 432x288 with 2 Axes>"
            ],
            "image/png": "[encoded data removed]"
          },
          "metadata": {
            "needs_background": "light"
          }
        }
      ],
      "source": [
        "io.imshow(imifsc_reshape, cmap='gray', vmin=0, vmax=255)\n",
        "# Observe como as letras \"apareceram\" com a alteração de contraste"
      ]
    },
    {
      "cell_type": "markdown",
      "metadata": {
        "id": "_SxSbR8ovsbA"
      },
      "source": [
        "# Atividade"
      ]
    },
    {
      "cell_type": "markdown",
      "metadata": {
        "id": "yhieVqjkvsbA"
      },
      "source": [
        "1. Faça uma **função** *altera_contraste()* que receba uma matriz (`nparray`) e um fator de multiplicação e retorne uma nova matriz com o contraste modificado. Lembre de limitar a intensidade entre 0 e 255 dentro da função. Informe com um _warning_ se isso ocorrer.  "
      ]
    },
    {
      "cell_type": "code",
      "source": [
        "contraste_min = 0\n",
        "contraste_max = 255\n",
        "\n",
        "def altera_contraste(img,fator: int):\n",
        "    contraste_modificado = np.zeros(img.shape)\n",
        "    for j in range(img.shape[0]):\n",
        "        for k in range(img.shape[1]):\n",
        "            if(fator*img[j,k]<contraste_min or fator*img[j,k]>contraste_max):\n",
        "                warnings.warn('Valor de contraste fora dos limites! Contraste deve ficar entre 0 e 255.')\n",
        "            contraste_modificado[j,k] = np.clip(fator*img[j,k],0,254)\n",
        "    return contraste_modificado"
      ],
      "metadata": {
        "id": "ZYd6wK_27Mni"
      },
      "execution_count": 22,
      "outputs": []
    },
    {
      "cell_type": "markdown",
      "metadata": {
        "id": "ef4hQiH_vsbA"
      },
      "source": [
        "2. Operação **brilho**. Para alterar o brilho de uma imagem, a operação aplicada sobre a intensidade de cada pixel é $I_{new}(u,v)=f_b+I(u,v)$, onde $f_b$ é um fator de brilho somado à intensidade original. Faça uma **função** *altera_brilho()* que receba uma matriz (`nparray`) e um fator de adição e retorne uma nova matriz com o brilho modificado. Lembre de limitar a intensidade entre 0 e 255 dentro da função. Informe com um _warning_ se isso ocorrer."
      ]
    },
    {
      "cell_type": "code",
      "source": [
        "intensidade_min = 0\n",
        "intensidade_max = 255\n",
        "\n",
        "def altera_brilho(img, fator: int):\n",
        "    brilho_modificado = np.zeros(img.shape)\n",
        "    for j in range(img.shape[0]):\n",
        "        for k in range(img.shape[1]):\n",
        "            if((fator+img[j,k])<intensidade_min or (fator+img[j,k])>intensidade_max):\n",
        "                warnings.warn('Valor de brilho fora dos limites! Brilho deve ficar entre 0 e 255.')\n",
        "            brilho_modificado[j,k] = np.clip(fator+img[j,k],0,255)\n",
        "    return brilho_modificado"
      ],
      "metadata": {
        "id": "lRjSLGhe754I"
      },
      "execution_count": 23,
      "outputs": []
    },
    {
      "cell_type": "markdown",
      "metadata": {
        "id": "VkQomzzlvsbB"
      },
      "source": [
        "3. Teste as duas funções com a imagem _daeln.pgm_\n",
        "\n",
        "Para o contraste, submeta no Moodle a imagem com o fator de aumento 5 (terá saturação)\n",
        "\n",
        "Para o brilho, submeta no Moodle a imagem com o fator de diminuição 80 (também terá saturação, mas para baixo)"
      ]
    },
    {
      "cell_type": "code",
      "source": [
        "imdaeln = readpgm('daeln.pgm')\n",
        "imdaeln_reshape = np.reshape(imdaeln[0],imdaeln[1])\n",
        "io.imshow(imdaeln_reshape)\n",
        "io.show()\n"
      ],
      "metadata": {
        "colab": {
          "base_uri": "https://localhost:8080/",
          "height": 352
        },
        "id": "8x5jtVqc-KzN",
        "outputId": "073d7f55-79bf-4a19-aff7-331a58730068"
      },
      "execution_count": 25,
      "outputs": [
        {
          "output_type": "stream",
          "name": "stderr",
          "text": [
            "/usr/local/lib/python3.7/dist-packages/skimage/io/_plugins/matplotlib_plugin.py:150: UserWarning: Low image data range; displaying image with stretched contrast.\n",
            "  lo, hi, cmap = _get_display_range(image)\n"
          ]
        },
        {
          "output_type": "display_data",
          "data": {
            "text/plain": [
              "<Figure size 432x288 with 2 Axes>"
            ],
            "image/png": "[encoded data removed]"
          },
          "metadata": {
            "needs_background": "light"
          }
        }
      ]
    },
    {
      "cell_type": "code",
      "source": [
        "imdaeln_contraste = altera_contraste(img = imdaeln_reshape, fator = 5)\n",
        "io.imshow(imdaeln_contraste)\n",
        "io.show()\n",
        "plt.savefig(\"imdaeln_contraste.png\")\n",
        "files.download(\"imdaeln_contraste.png\")"
      ],
      "metadata": {
        "colab": {
          "base_uri": "https://localhost:8080/",
          "height": 404
        },
        "id": "gLHDClXO_J6M",
        "outputId": "324a7184-2478-476f-b897-80dc86ac129b"
      },
      "execution_count": 30,
      "outputs": [
        {
          "output_type": "stream",
          "name": "stderr",
          "text": [
            "/usr/local/lib/python3.7/dist-packages/ipykernel_launcher.py:9: UserWarning: Valor de contraste fora dos limites! Contraste deve ficar entre 0 e 255.\n",
            "  if __name__ == '__main__':\n",
            "/usr/local/lib/python3.7/dist-packages/skimage/io/_plugins/matplotlib_plugin.py:150: UserWarning: Float image out of standard range; displaying image with stretched contrast.\n",
            "  lo, hi, cmap = _get_display_range(image)\n"
          ]
        },
        {
          "output_type": "display_data",
          "data": {
            "text/plain": [
              "<Figure size 432x288 with 2 Axes>"
            ],
            "image/png": "[encoded data removed]"
          },
          "metadata": {
            "needs_background": "light"
          }
        },
        {
          "output_type": "display_data",
          "data": {
            "text/plain": [
              "<IPython.core.display.Javascript object>"
            ],
            "application/javascript": [
              "\n",
              "    async function download(id, filename, size) {\n",
              "      if (!google.colab.kernel.accessAllowed) {\n",
              "        return;\n",
              "      }\n",
              "      const div = document.createElement('div');\n",
              "      const label = document.createElement('label');\n",
              "      label.textContent = `Downloading \"${filename}\": `;\n",
              "      div.appendChild(label);\n",
              "      const progress = document.createElement('progress');\n",
              "      progress.max = size;\n",
              "      div.appendChild(progress);\n",
              "      document.body.appendChild(div);\n",
              "\n",
              "      const buffers = [];\n",
              "      let downloaded = 0;\n",
              "\n",
              "      const channel = await google.colab.kernel.comms.open(id);\n",
              "      // Send a message to notify the kernel that we're ready.\n",
              "      channel.send({})\n",
              "\n",
              "      for await (const message of channel.messages) {\n",
              "        // Send a message to notify the kernel that we're ready.\n",
              "        channel.send({})\n",
              "        if (message.buffers) {\n",
              "          for (const buffer of message.buffers) {\n",
              "            buffers.push(buffer);\n",
              "            downloaded += buffer.byteLength;\n",
              "            progress.value = downloaded;\n",
              "          }\n",
              "        }\n",
              "      }\n",
              "      const blob = new Blob(buffers, {type: 'application/binary'});\n",
              "      const a = document.createElement('a');\n",
              "      a.href = window.URL.createObjectURL(blob);\n",
              "      a.download = filename;\n",
              "      div.appendChild(a);\n",
              "      a.click();\n",
              "      div.remove();\n",
              "    }\n",
              "  "
            ]
          },
          "metadata": {}
        },
        {
          "output_type": "display_data",
          "data": {
            "text/plain": [
              "<IPython.core.display.Javascript object>"
            ],
            "application/javascript": [
              "download(\"download_af6da889-422a-4cdc-9a7d-c4906fb2f162\", \"imdaeln_contraste.png\", 1273)"
            ]
          },
          "metadata": {}
        },
        {
          "output_type": "display_data",
          "data": {
            "text/plain": [
              "<Figure size 432x288 with 0 Axes>"
            ]
          },
          "metadata": {}
        }
      ]
    },
    {
      "cell_type": "code",
      "source": [
        "imdaeln_brilho = altera_brilho(img = imdaeln_reshape,fator = -80)\n",
        "io.imshow(imdaeln_brilho)\n",
        "io.show()\n",
        "plt.savefig(\"imdaeln_brilho.png\")\n",
        "files.download(\"imdaeln_brilho.png\")"
      ],
      "metadata": {
        "colab": {
          "base_uri": "https://localhost:8080/",
          "height": 404
        },
        "id": "Rypw-VvT_K5U",
        "outputId": "b3bb1977-4c7c-47ec-ee0d-cb6597497ab6"
      },
      "execution_count": 29,
      "outputs": [
        {
          "output_type": "stream",
          "name": "stderr",
          "text": [
            "/usr/local/lib/python3.7/dist-packages/ipykernel_launcher.py:9: UserWarning: Valor de brilho fora dos limites! Brilho deve ficar entre 0 e 255.\n",
            "  if __name__ == '__main__':\n",
            "/usr/local/lib/python3.7/dist-packages/skimage/io/_plugins/matplotlib_plugin.py:150: UserWarning: Float image out of standard range; displaying image with stretched contrast.\n",
            "  lo, hi, cmap = _get_display_range(image)\n"
          ]
        },
        {
          "output_type": "display_data",
          "data": {
            "text/plain": [
              "<Figure size 432x288 with 2 Axes>"
            ],
            "image/png": "[encoded data removed]"
          },
          "metadata": {
            "needs_background": "light"
          }
        },
        {
          "output_type": "display_data",
          "data": {
            "text/plain": [
              "<IPython.core.display.Javascript object>"
            ],
            "application/javascript": [
              "\n",
              "    async function download(id, filename, size) {\n",
              "      if (!google.colab.kernel.accessAllowed) {\n",
              "        return;\n",
              "      }\n",
              "      const div = document.createElement('div');\n",
              "      const label = document.createElement('label');\n",
              "      label.textContent = `Downloading \"${filename}\": `;\n",
              "      div.appendChild(label);\n",
              "      const progress = document.createElement('progress');\n",
              "      progress.max = size;\n",
              "      div.appendChild(progress);\n",
              "      document.body.appendChild(div);\n",
              "\n",
              "      const buffers = [];\n",
              "      let downloaded = 0;\n",
              "\n",
              "      const channel = await google.colab.kernel.comms.open(id);\n",
              "      // Send a message to notify the kernel that we're ready.\n",
              "      channel.send({})\n",
              "\n",
              "      for await (const message of channel.messages) {\n",
              "        // Send a message to notify the kernel that we're ready.\n",
              "        channel.send({})\n",
              "        if (message.buffers) {\n",
              "          for (const buffer of message.buffers) {\n",
              "            buffers.push(buffer);\n",
              "            downloaded += buffer.byteLength;\n",
              "            progress.value = downloaded;\n",
              "          }\n",
              "        }\n",
              "      }\n",
              "      const blob = new Blob(buffers, {type: 'application/binary'});\n",
              "      const a = document.createElement('a');\n",
              "      a.href = window.URL.createObjectURL(blob);\n",
              "      a.download = filename;\n",
              "      div.appendChild(a);\n",
              "      a.click();\n",
              "      div.remove();\n",
              "    }\n",
              "  "
            ]
          },
          "metadata": {}
        },
        {
          "output_type": "display_data",
          "data": {
            "text/plain": [
              "<IPython.core.display.Javascript object>"
            ],
            "application/javascript": [
              "download(\"download_ef9fef1e-626f-4825-8a81-fb6922621576\", \"imdaeln_brilho.png\", 1273)"
            ]
          },
          "metadata": {}
        },
        {
          "output_type": "display_data",
          "data": {
            "text/plain": [
              "<Figure size 432x288 with 0 Axes>"
            ]
          },
          "metadata": {}
        }
      ]
    }
  ],
  "metadata": {
    "kernelspec": {
      "display_name": "Python 3",
      "language": "python",
      "name": "python3"
    },
    "language_info": {
      "codemirror_mode": {
        "name": "ipython",
        "version": 3
      },
      "file_extension": ".py",
      "mimetype": "text/x-python",
      "name": "python",
      "nbconvert_exporter": "python",
      "pygments_lexer": "ipython3",
      "version": "3.8.2"
    },
    "colab": {
      "name": "atividade_6",
      "provenance": [],
      "include_colab_link": true
    }
  },
  "nbformat": 4,
  "nbformat_minor": 0
}