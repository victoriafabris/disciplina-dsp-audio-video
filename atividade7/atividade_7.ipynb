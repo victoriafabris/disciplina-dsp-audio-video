{
  "nbformat": 4,
  "nbformat_minor": 0,
  "metadata": {
    "colab": {
      "name": "atividade_7",
      "provenance": [],
      "authorship_tag": "ABX9TyOzXlLQaw6hEHXeD8V4fEcR",
      "include_colab_link": true
    },
    "kernelspec": {
      "name": "python3",
      "display_name": "Python 3"
    },
    "language_info": {
      "name": "python"
    }
  },
  "cells": [
    {
      "cell_type": "markdown",
      "metadata": {
        "id": "view-in-github",
        "colab_type": "text"
      },
      "source": [
        "<a href=\"https://colab.research.google.com/github/victoriafabris/disciplina-dsp-audio-video/blob/main/atividade7/atividade_7.ipynb\" target=\"_parent\"><img src=\"https://colab.research.google.com/assets/colab-badge.svg\" alt=\"Open In Colab\"/></a>"
      ]
    },
    {
      "cell_type": "markdown",
      "source": [
        "# Atividade 9: Histograma e Binarização de Imagens"
      ],
      "metadata": {
        "id": "go3kz1-lza83"
      }
    },
    {
      "cell_type": "markdown",
      "source": [
        "Nos itens seguintes, quando solicitado a mostrar a imagem resultante, use `imshowpair` [1] para mostrá-la lado a lado com a imagem original.\n"
      ],
      "metadata": {
        "id": "SK_HxCq5zh2G"
      }
    },
    {
      "cell_type": "markdown",
      "source": [
        "## Histograma"
      ],
      "metadata": {
        "id": "Aq34i2DmzmEe"
      }
    },
    {
      "cell_type": "markdown",
      "source": [
        "1.   O que é o histograma de uma imagem?\n",
        "2.   Na imagem fingerprint [2], é possível distinguir o fundo e a impressão digital observando o histograma?"
      ],
      "metadata": {
        "id": "SvwhedGrz93A"
      }
    },
    {
      "cell_type": "markdown",
      "source": [
        "##Binarização"
      ],
      "metadata": {
        "id": "cbfhoCbuztfP"
      }
    },
    {
      "cell_type": "markdown",
      "source": [
        "1.   Qual limite poderia ser usado para binarizar a imagem fingerprint? Observe e apresente o histograma, teste e mostre a imagem binarizada resultante lado a lado com a imagem original usando `imshowpair`.\n",
        "2.   De forma semelhante, que limite poderia ser usado para binarizar a imagem *son1* ou *darkerforeground* [3]? Mostre o resultado.\n",
        "3. Verifique que a binarização global da imagem son1 ou darkerforeground [3] não provê um bom resultado. Use um limiar adaptativo (`threshold_local` no módulo Scikit Image a partir da versão 0.13 [4] e mostre o resultado. \n",
        "4. Observe o histograma da imagem *pout* [5]. O que você pode concluir?"
      ],
      "metadata": {
        "id": "QnJzcURL0ABH"
      }
    },
    {
      "cell_type": "markdown",
      "source": [
        "## Equalização de histograma"
      ],
      "metadata": {
        "id": "oVg4OuH50Kz_"
      }
    },
    {
      "cell_type": "markdown",
      "source": [
        "1. Compare as técnicas de equalização de histograma implementadas nas funções `rescale_intensity`, `equalize_hist` e `equalize_adapthist` do *Scikit Image* [6] , usando a imagem *pout* [5] como teste. Pesquise as referências apresentadas na documentação de cada uma das funções e explique as diferenças entre elas.\n",
        "2. De forma semelhante, aplique uma das técnicas de equalização de histograma para realçar a imagem *dentalradiograph* [7]."
      ],
      "metadata": {
        "id": "O94botSV0OaH"
      }
    },
    {
      "cell_type": "markdown",
      "source": [
        "## Introdução a filtros em imagens"
      ],
      "metadata": {
        "id": "QIujkSKH0Rwu"
      }
    },
    {
      "cell_type": "markdown",
      "source": [
        "1. A imagem compareresults [8] foi corrompida com ruído do tipo sal e pimenta (salt and pepper noise). Use um filtro de média (`rank.mean` [9] de `skimage.filters`) para melhorá-la. Qual o resultado?\n",
        "2. Use, agora, um filtro de mediana (`skimage.filters.rank.median` [10]) para melhorar a imagem compareresults [8]. Qual o resultado? O que é a mediana e por que um filtro desse tipo é melhor para esse caso?"
      ],
      "metadata": {
        "id": "SHurHZvZ0anO"
      }
    },
    {
      "cell_type": "markdown",
      "source": [
        "# Referências"
      ],
      "metadata": {
        "id": "5VzNK_Cb0h8W"
      }
    },
    {
      "cell_type": "markdown",
      "source": [
        "\n",
        "[1] https://pypi.org/project/imshowpair/\n",
        "\n",
        "[2] http://fmwconcepts.com/imagemagick/otsuthresh/images/fingerprint.jpg\n",
        "\n",
        "[3] http://homepages.inf.ed.ac.uk/rbf/HIPR2/images/son1.gif ou https://www.mathworks.com/help/examples/images/win64/BinarizeImagesWithDarkerForegroundThanBackgroundExample_01.png\n",
        "\n",
        "[4] https://scikit-image.org/docs/stable/auto_examples/applications/plot_thresholding.html\n",
        "\n",
        "[5] http://www.johnloomis.org/ece563/notes/enhancement/scale/pout.jpg\n",
        "\n",
        "[6] https://scikit-image.org/docs/dev/auto_examples/color_exposure/plot_equalize.html\n",
        "\n",
        "[7] https://imagej.nih.gov/ij/images/DentalRadiograph.png\n",
        "\n",
        "[8] http://www.mathworks.com/help/releases/R2016b/examples/images/CompareResultsOfAveragingFilterAndMedianFilterExample_02.png\n",
        "\n",
        "[9] https://scikit-image.org/docs/stable/auto_examples/filters/plot_rank_mean.html\n",
        "\n",
        "[10] https://scikit-image.org/docs/stable/auto_examples/applications/plot_rank_filters.html#noise-removal\n"
      ],
      "metadata": {
        "id": "rGKIiV9yzURJ"
      }
    },
    {
      "cell_type": "markdown",
      "source": [
        "# Bibliografia"
      ],
      "metadata": {
        "id": "y081p26V0oNO"
      }
    },
    {
      "cell_type": "markdown",
      "source": [
        "\n",
        "https://www.mathworks.com/examples/image/mw/images-ex28564424-create-image-histogram\n",
        "\n",
        "https://www.mathworks.com/examples/image/mw/images-ex57959084-basic-image-enhancement-and-analysis-techniques\n",
        "\n",
        "http://www.mathworks.com/help/images/ref/imbinarize.html\n",
        "\n",
        "http://blogs.mathworks.com/steve/2016/06/14/image-binarization-otsus-method\n",
        "\n",
        "https://www.mathworks.com/examples/image/mw/images-ex97343802-contrast-enhancement-techniques\n",
        "\n",
        "https://www.mathworks.com/examples/image/mw/images-ex74217292-remove-noise-using-an-averaging-filter-and-a-median-filter\n",
        "\n",
        "https://www.mathworks.com/examples/image/mw/images-ex48835658-detect-edges-in-images\n",
        "\n",
        "https://www.mathworks.com/examples/image/mw/images-ex80028725-trace-boundaries-of-objects-in-images\n",
        "\n",
        "https://www.mathworks.com/examples/image/mw/images-ex45754758-filter-images-using-predefined-filters\n",
        "\n",
        "https://www.mathworks.com/examples/image/community/18507-missing-planes"
      ],
      "metadata": {
        "id": "lqFICw8M0m3n"
      }
    }
  ]
}