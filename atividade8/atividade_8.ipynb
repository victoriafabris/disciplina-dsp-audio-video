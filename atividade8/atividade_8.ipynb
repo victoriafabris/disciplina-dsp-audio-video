{
  "nbformat": 4,
  "nbformat_minor": 0,
  "metadata": {
    "colab": {
      "name": "atividade_8",
      "provenance": [],
      "authorship_tag": "ABX9TyOXjxTZTwozDPPoRm/3WHGf",
      "include_colab_link": true
    },
    "kernelspec": {
      "name": "python3",
      "display_name": "Python 3"
    },
    "language_info": {
      "name": "python"
    }
  },
  "cells": [
    {
      "cell_type": "markdown",
      "metadata": {
        "id": "view-in-github",
        "colab_type": "text"
      },
      "source": [
        "<a href=\"https://colab.research.google.com/github/victoriafabris/disciplina-dsp-audio-video/blob/main/atividade8/atividade_8.ipynb\" target=\"_parent\"><img src=\"https://colab.research.google.com/assets/colab-badge.svg\" alt=\"Open In Colab\"/></a>"
      ]
    },
    {
      "cell_type": "markdown",
      "source": [
        "#Atividade 10: Filtros em Imagens"
      ],
      "metadata": {
        "id": "IvyCuxO8nlOQ"
      }
    },
    {
      "cell_type": "markdown",
      "source": [
        "##Filtros passa-baixas"
      ],
      "metadata": {
        "id": "DUzW39Pmn1w9"
      }
    },
    {
      "cell_type": "markdown",
      "source": [
        "1. Vimos que para filtrar uma imagem, é necessário definir um kernel, que nada mais é que a resposta ao impulso do filtro. Considere a imagem [1]. Defina filtros passa-baixas (a) 3x3 e (b) 9x9. Você pode gerar manualmente a matriz (como no exemplo Blur de [2]) ou usar um dos elementos estruturantes (square, disk, etc.) do módulo morphology do Skimage [3]. Filtre a imagem. A imagem é melhorada com esses filtros?"
      ],
      "metadata": {
        "id": "ZzxLs3GInngd"
      }
    },
    {
      "cell_type": "markdown",
      "source": [
        "2. Filtre novamente a mesma imagem [1], mas usando um filtro de média bilateral [4]. Explique suas vantagens.\n"
      ],
      "metadata": {
        "id": "ksLWCRxDoG-D"
      }
    },
    {
      "cell_type": "markdown",
      "source": [
        "3. Filtre a mesma imagem [1] com filtro de mediana [5]. A imagem é melhorada? Qual a influência do tamanho do filtro e do formato do elemento estruturante? O filtro de mediana é linear?"
      ],
      "metadata": {
        "id": "GMperxYQoImR"
      }
    },
    {
      "cell_type": "markdown",
      "source": [
        "##Filtros passa-altas"
      ],
      "metadata": {
        "id": "YDIUzruQn4Hr"
      }
    },
    {
      "cell_type": "markdown",
      "source": [
        "1.Considere a imagem [6]. Procure melhorá-la (aguçar os contornos) usando um filtro linear. Você pode usar um filtro passa-altas (como no exemplo Sharpening de [2]) ou a máscara unsharp_mask de skimage.filters [7]."
      ],
      "metadata": {
        "id": "Rlw0qh95no6x"
      }
    },
    {
      "cell_type": "code",
      "source": [
        ""
      ],
      "metadata": {
        "id": "huj1m353oGew"
      },
      "execution_count": null,
      "outputs": []
    },
    {
      "cell_type": "markdown",
      "source": [
        "##Detecção de bordas"
      ],
      "metadata": {
        "id": "cuhd1XNXn6iL"
      }
    },
    {
      "cell_type": "markdown",
      "source": [
        "1. Usando um kernel do tipo Sobel ou Canny, identifique as bordas da folha na imagem [8]. Mostre o resultado. Depois, aplique os mesmos parâmetros para a imagem [9]. As bordas são detectadas corretamente? É necessário ajustar os parâmetros?"
      ],
      "metadata": {
        "id": "2lqyy1N_nqO8"
      }
    },
    {
      "cell_type": "markdown",
      "source": [
        "\n",
        "##Transformada circular de Hough"
      ],
      "metadata": {
        "id": "VRIcFjkzn-Lr"
      }
    },
    {
      "cell_type": "markdown",
      "source": [
        "1. Estude os exemplos de uso da transformada circular de Hough para detecção de círculos em imagens [10],[11]. Depois, identifique o número de moedas na imagem Brazilian_coins [12]. Devido à iluminação, talvez não seja possível identificar corretamente todas."
      ],
      "metadata": {
        "id": "sIV72fz8nrlb"
      }
    },
    {
      "cell_type": "code",
      "execution_count": null,
      "metadata": {
        "id": "UZNSnw_tmJES"
      },
      "outputs": [],
      "source": [
        ""
      ]
    },
    {
      "cell_type": "markdown",
      "source": [
        "#Referências"
      ],
      "metadata": {
        "id": "50OH2V-locit"
      }
    },
    {
      "cell_type": "markdown",
      "source": [
        "\n",
        "[1] hw3_train.jpg de http://web.stanford.edu/class/ee368/Handouts/Homeworks/HW3/hw3_data.zip\n",
        "\n",
        "[2] https://www.codingame.com/playgrounds/2524/basic-image-manipulation/filtering\n",
        "\n",
        "[3] https://scikit-image.org/docs/dev/api/skimage.morphology.html\n",
        "\n",
        "[4] https://scikit-image.org/docs/dev/auto_examples/applications/plot_rank_filters.html#image-smoothing\n",
        "\n",
        "[5] https://scikit-image.org/docs/dev/auto_examples/applications/plot_rank_filters.html#noise-removal\n",
        "\n",
        "[6] hw3_road_sign_school_blurry.jpg de http://web.stanford.edu/class/ee368/Handouts/Homeworks/HW3/hw3_data.zip\n",
        "\n",
        "[7] https://scikit-image.org/docs/dev/auto_examples/filters/plot_unsharp_mask.html\n",
        "\n",
        "[8] hw3_leaf_training_1.jpg de http://web.stanford.edu/class/ee368/Handouts/Homeworks/HW3/hw3_data.zip\n",
        "\n",
        "[9] hw3_leaf_training_4.jpg de http://web.stanford.edu/class/ee368/Handouts/Homeworks/HW3/hw3_data.zip\n",
        "\n",
        "[10] https://scikit-image.org/docs/dev/auto_examples/edges/plot_circular_elliptical_hough_transform.html\n",
        "\n",
        "[11] https://www.codingame.com/playgrounds/38470/how-to-detect-circles-in-images\n",
        "\n",
        "[12] http://worldcoingallery.com/countries/bg/Brazil.jpg\n"
      ],
      "metadata": {
        "id": "X0rcAc1hnuhM"
      }
    },
    {
      "cell_type": "markdown",
      "source": [
        "#Bibliografia"
      ],
      "metadata": {
        "id": "tMoxxndEog6Q"
      }
    },
    {
      "cell_type": "markdown",
      "source": [
        "\n",
        "https://scikit-image.org/docs/dev/auto_examples/applications/plot_rank_filters.html#image-smoothing\n",
        "\n",
        "https://www.mathworks.com/help/images/what-is-image-filtering-in-the-spatial-domain.html\n",
        "\n",
        "https://www.mathworks.com/examples/image/mw/images-ex48835658-detect-edges-in-images\n",
        "\n",
        "https://www.mathworks.com/examples/image/mw/images-ex80028725-trace-boundaries-of-objects-in-images\n",
        "\n",
        "https://www.mathworks.com/help/images/ref/imfindcircles.html#examples\n",
        "\n",
        "https://www.mathworks.com/examples/image/community/18507-missing-planes"
      ],
      "metadata": {
        "id": "RjG0ng9JoffO"
      }
    }
  ]
}